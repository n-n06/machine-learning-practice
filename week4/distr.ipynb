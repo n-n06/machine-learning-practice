{
 "cells": [
  {
   "cell_type": "code",
   "execution_count": 3,
   "metadata": {},
   "outputs": [],
   "source": [
    "import numpy as np\n",
    "import sympy as sp\n"
   ]
  },
  {
   "cell_type": "code",
   "execution_count": 4,
   "metadata": {},
   "outputs": [
    {
     "data": {
      "text/plain": [
       "matrix([[ 0.21428571, -0.5       ,  0.35714286],\n",
       "        [-0.17857143,  0.25      ,  0.03571429],\n",
       "        [ 0.25      ,  0.25      , -0.25      ]])"
      ]
     },
     "execution_count": 4,
     "metadata": {},
     "output_type": "execute_result"
    }
   ],
   "source": [
    "mat = np.matrix([[2,1,3],[1,4,2],[3,5,1]])\n",
    "np.linalg.inv(mat)"
   ]
  },
  {
   "cell_type": "code",
   "execution_count": 8,
   "metadata": {},
   "outputs": [
    {
     "data": {
      "text/latex": [
       "$\\displaystyle \\left[\\begin{matrix}\\frac{3}{14} & - \\frac{1}{2} & \\frac{5}{14}\\\\- \\frac{5}{28} & \\frac{1}{4} & \\frac{1}{28}\\\\\\frac{1}{4} & \\frac{1}{4} & - \\frac{1}{4}\\end{matrix}\\right]$"
      ],
      "text/plain": [
       "Matrix([\n",
       "[ 3/14, -1/2, 5/14],\n",
       "[-5/28,  1/4, 1/28],\n",
       "[  1/4,  1/4, -1/4]])"
      ]
     },
     "execution_count": 8,
     "metadata": {},
     "output_type": "execute_result"
    }
   ],
   "source": [
    "mat_sp = sp.Matrix([[2,1,3],[1,4,2],[3,5,1]])\n",
    "mat_sp.inv()"
   ]
  },
  {
   "cell_type": "code",
   "execution_count": 15,
   "metadata": {},
   "outputs": [
    {
     "data": {
      "text/latex": [
       "$\\displaystyle \\left[\\begin{matrix}35 & 44\\\\44 & 56\\end{matrix}\\right]$"
      ],
      "text/plain": [
       "Matrix([\n",
       "[35, 44],\n",
       "[44, 56]])"
      ]
     },
     "execution_count": 15,
     "metadata": {},
     "output_type": "execute_result"
    }
   ],
   "source": [
    "mat_x = sp.Matrix([[1,2],[3,4],[5,6]])\n",
    "mat_x_t = mat_x.transpose()\n",
    "mat_x_by_t = mat_x_t * mat_x\n",
    "mat_x_by_t\n"
   ]
  },
  {
   "cell_type": "code",
   "execution_count": 16,
   "metadata": {},
   "outputs": [
    {
     "data": {
      "text/latex": [
       "$\\displaystyle \\left[\\begin{matrix}\\frac{7}{3} & - \\frac{11}{6}\\\\- \\frac{11}{6} & \\frac{35}{24}\\end{matrix}\\right]$"
      ],
      "text/plain": [
       "Matrix([\n",
       "[  7/3, -11/6],\n",
       "[-11/6, 35/24]])"
      ]
     },
     "execution_count": 16,
     "metadata": {},
     "output_type": "execute_result"
    }
   ],
   "source": [
    "mat_x_by_t_inv = mat_x_by_t.inv()\n",
    "mat_x_by_t_inv"
   ]
  },
  {
   "cell_type": "code",
   "execution_count": 18,
   "metadata": {},
   "outputs": [
    {
     "data": {
      "text/latex": [
       "$\\displaystyle \\left[\\begin{matrix}- \\frac{4}{3} & - \\frac{1}{3} & \\frac{2}{3}\\\\\\frac{13}{12} & \\frac{1}{3} & - \\frac{5}{12}\\end{matrix}\\right]$"
      ],
      "text/plain": [
       "Matrix([\n",
       "[ -4/3, -1/3,   2/3],\n",
       "[13/12,  1/3, -5/12]])"
      ]
     },
     "execution_count": 18,
     "metadata": {},
     "output_type": "execute_result"
    }
   ],
   "source": [
    "mat_final = mat_x_by_t_inv * mat_x_t\n",
    "mat_final"
   ]
  },
  {
   "cell_type": "code",
   "execution_count": 19,
   "metadata": {},
   "outputs": [
    {
     "data": {
      "text/latex": [
       "$\\displaystyle \\left[\\begin{matrix}-6\\\\\\frac{13}{2}\\end{matrix}\\right]$"
      ],
      "text/plain": [
       "Matrix([\n",
       "[  -6],\n",
       "[13/2]])"
      ]
     },
     "execution_count": 19,
     "metadata": {},
     "output_type": "execute_result"
    }
   ],
   "source": [
    "mat_final * sp.Matrix([7,8,9])"
   ]
  }
 ],
 "metadata": {
  "kernelspec": {
   "display_name": ".venv",
   "language": "python",
   "name": "python3"
  },
  "language_info": {
   "codemirror_mode": {
    "name": "ipython",
    "version": 3
   },
   "file_extension": ".py",
   "mimetype": "text/x-python",
   "name": "python",
   "nbconvert_exporter": "python",
   "pygments_lexer": "ipython3",
   "version": "3.13.0"
  }
 },
 "nbformat": 4,
 "nbformat_minor": 2
}
