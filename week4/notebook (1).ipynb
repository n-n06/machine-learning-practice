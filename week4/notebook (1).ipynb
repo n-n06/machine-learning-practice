{
 "cells": [
  {
   "cell_type": "markdown",
   "id": "b1332feb-7713-42c7-abb5-30d888e3f0d2",
   "metadata": {},
   "source": [
    "# Vectors and matrices"
   ]
  },
  {
   "cell_type": "markdown",
   "id": "187e85c4-810c-47bd-b7a9-6187acf5442b",
   "metadata": {},
   "source": [
    "## Ex 1. \n",
    "Given two vectors:\n",
    "$$x = \\begin{pmatrix} 2 \\\\ -1 \\\\ 3 \\end{pmatrix}, \\quad y = \\begin{pmatrix} 5 \\\\ 0 \\\\ 4 \\end{pmatrix}$$\n",
    "\n",
    "Compute:\n",
    "- $x + y$\n",
    "- $3x - 2y$\n",
    "- The dot product $x^Ty$\n",
    "- The outer product $xy^T$"
   ]
  },
  {
   "cell_type": "markdown",
   "id": "3c6a40a9-ed8f-43bf-b981-143ba96c8423",
   "metadata": {},
   "source": [
    "## Ex 2.\n",
    "Given matrices: \n",
    "\n",
    "$$\n",
    "A = \\begin{bmatrix} \n",
    "2 & -1\\\\ \n",
    "0 & 4\\\\ \n",
    "3 & 5 \n",
    "\\end{bmatrix}, \\quad\n",
    "B = \\begin{bmatrix} \n",
    "1 & 3 & -2 & 5 \\\\ \n",
    "4 & -1 & 0 & 9\n",
    "\\end{bmatrix}\n",
    "$$\n",
    "\n",
    "- Determine the dimensions of $A$ and $B$.\n",
    "- Compute $AB$.\n",
    "- Is it possible to compute $BA$? Why?"
   ]
  },
  {
   "cell_type": "markdown",
   "id": "8ba40d61-469a-4fa0-9f73-0a999a505c78",
   "metadata": {},
   "source": [
    "## Ex 3.\n",
    "\n",
    "Let:\n",
    "\n",
    "$$\n",
    "A = \\begin{bmatrix} \n",
    "1 & 2\\\\ \n",
    "3 & 4\n",
    "\\end{bmatrix}, \\quad\n",
    "B = \\begin{bmatrix} \n",
    "0 & 1\\\\ \n",
    "1 & 0\n",
    "\\end{bmatrix}\n",
    "$$\n",
    "\n",
    "- Compute $AB$\n",
    "- Compute $BA$\n",
    "- Does $AB$ = $BA$? Explain why."
   ]
  },
  {
   "cell_type": "markdown",
   "id": "25b2b66f-38b8-4068-a814-8254541a67d6",
   "metadata": {},
   "source": [
    "## Ex 4.\n",
    "\n",
    "Given the matrix $A$:\n",
    "$$\n",
    "A = \\begin{bmatrix} \n",
    "2 & 1 & 3 \\\\ \n",
    "1 & 4 & 2 \\\\\n",
    "3 & 5 & 1\n",
    "\\end{bmatrix}\n",
    "$$\n",
    "\n",
    "- Find the inverse of matrix $A$, if it exists.\n",
    "- Verify that multiplying $A$ with its inverse results in the identity matrix."
   ]
  },
  {
   "cell_type": "markdown",
   "id": "4ebc1997-affb-46b8-bf20-2d638a7e99db",
   "metadata": {},
   "source": [
    "## Ex 5.\n",
    "In linear regression, the solution to $Xw = y$ is given by:\n",
    "$$w = (X^T X)^{-1} X^T y$$\n",
    "\n",
    "Given:\n",
    "$$X = \\begin{bmatrix} 1 & 2 \\\\ 3 & 4 \\\\ 5 & 6 \\end{bmatrix}, \\quad y = \\begin{bmatrix} 7 \\\\ 8 \\\\ 9 \\end{bmatrix}$$\n",
    "\n",
    "- Find $w$"
   ]
  }
 ],
 "metadata": {
  "kernelspec": {
   "display_name": "Python 3 (ipykernel)",
   "language": "python",
   "name": "python3"
  },
  "language_info": {
   "codemirror_mode": {
    "name": "ipython",
    "version": 3
   },
   "file_extension": ".py",
   "mimetype": "text/x-python",
   "name": "python",
   "nbconvert_exporter": "python",
   "pygments_lexer": "ipython3",
   "version": "3.12.6"
  }
 },
 "nbformat": 4,
 "nbformat_minor": 5
}
