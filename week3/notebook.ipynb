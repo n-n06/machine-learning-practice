{
 "cells": [
  {
   "cell_type": "markdown",
   "id": "dcc3f001-88f1-475b-bf5a-5f0d1ca844a9",
   "metadata": {},
   "source": [
    "# Part 1:\n",
    "\n",
    "1) Give 1 real world example for:\n",
    "   - Binary Classification Task\n",
    "   - Multiclass Classification Task\n",
    "   - Regression Task\n",
    "\n",
    "**Answer**:\n",
    "- Binary classification - determining if a person has heart-related diseases based on health data like avg heart rate, age, level of holesterol, weight, height, etc.\n",
    "- Multiclass classification - recognizing hand-written digits\n",
    "- Regression task - predicting stock prices based on previous trends in prices"
   ]
  },
  {
   "cell_type": "markdown",
   "id": "d533bd41",
   "metadata": {},
   "source": [
    "2)\n",
    "Classifying into 2 classes, a model produces the following outputs:\n",
    "\n",
    "\n",
    "| $y_i$     |               $\\hat{y_i}$                                  |\n",
    "|---------|----------------------------------------------------------|\n",
    "| 1       | 0.9 |\n",
    "| 1       | 0.4 |\n",
    "| 0       | 0.3 |\n",
    "| 0       | 0.6 |\n",
    "\n",
    "Calculate the binary cross-entropy loss.\n",
    "\n",
    "\n",
    "\n",
    "$$y(\\theta)={1\\over n}\\sum^n_{i=1}[y_ilog(\\hat{y_i}) + (1-y_1)log(1-\\hat{y_i})] =\n",
    "\\\\ (1*log(0.9) + (1-1)log(1-0.9)) + (1*log(0.4)+(1-1)log(1-0.4)) + (0*log(0.3) + (1-0)*log(1-0.3)) + (0*log(0.6) + (1-0)*log(1-0.6)) = \n",
    "\\\\$$\n",
    "\n",
    "**Answer**: The result is **0.57365**"
   ]
  },
  {
   "cell_type": "markdown",
   "id": "2f1f846a",
   "metadata": {},
   "source": [
    "3) While improving a model complexity, if you notice that a model's training error is decreasing but the test error is getting higher, what does this indicate about the model's behavior?\n",
    "\n",
    "**Answer:** This behaviour indicates that the model is **overfitted**"
   ]
  },
  {
   "cell_type": "markdown",
   "id": "b75d5f95",
   "metadata": {},
   "source": [
    "4. Suppose we have a dataset with categorical targets $Y = ${$1, ..., K$}. \n",
    "\n",
    "Let $n_k$ be the size of the $k$-th category :\n",
    "\n",
    "$$\n",
    "n_k = \\sum_{i=1}^{n} \\mathbb{I}[y_i = k], \\quad \\sum_{k=1}^{K} n_k = n.\n",
    "$$\n",
    "\n",
    "Consider a dummy model which always predicts category $l$, $1<l<K$. What is the value of the error rate ? For which $l$\n",
    " it is minimal?\n"
   ]
  },
  {
   "cell_type": "markdown",
   "id": "b7b10f79",
   "metadata": {},
   "source": [
    "**Answer**: the mode of the dataset"
   ]
  },
  {
   "cell_type": "markdown",
   "id": "03be6d8c",
   "metadata": {},
   "source": [
    "5. The MSE for a constant model $f_\\theta(x_i) = c$ is given by : \n",
    "\n",
    "$$\n",
    "\\frac{1}{n} \\sum_{i=1}^{n} (y_i - c)^2.\n",
    "$$\n",
    "\n",
    "Find the constant $c$ that minimizes the MSE.\n",
    "\n",
    "**Answer:** the mean of the dataset (proof provided on paper) "
   ]
  },
  {
   "cell_type": "markdown",
   "id": "98f73a6e-7bf3-4ede-9e06-7a392d56dd86",
   "metadata": {},
   "source": [
    "# Part 2:\n",
    "\n",
    "### Step 1 : Generate synthetic data (Y) following any type of distributions.\n"
   ]
  },
  {
   "cell_type": "code",
   "execution_count": 44,
   "id": "95d1ee72",
   "metadata": {},
   "outputs": [
    {
     "data": {
      "text/plain": [
       "array([ 0.70079754,  0.74703159, -0.13851329, ..., -1.44427781,\n",
       "       -0.42502152,  0.9951247 ], shape=(2000,))"
      ]
     },
     "execution_count": 44,
     "metadata": {},
     "output_type": "execute_result"
    }
   ],
   "source": [
    "import numpy as np\n",
    "import matplotlib.pyplot as plt\n",
    "\n",
    "synth_size = 2000\n",
    "\n",
    "data = np.random.standard_normal(synth_size)\n",
    "data"
   ]
  },
  {
   "cell_type": "markdown",
   "id": "43873931",
   "metadata": {},
   "source": [
    "### Step 2 : Define a function to compute MSE\n"
   ]
  },
  {
   "cell_type": "code",
   "execution_count": 45,
   "id": "fd08011e",
   "metadata": {},
   "outputs": [],
   "source": [
    "def mean_squared_error_const_model(l, Y_actual: np.array):\n",
    "    n = Y_actual.shape\n",
    "    return ((np.full(n, l) - Y_actual)**2).mean()\n"
   ]
  },
  {
   "cell_type": "markdown",
   "id": "b7141b73",
   "metadata": {},
   "source": [
    "### Step 3 : Find the optimal c, compare it to the mean of you synthetic dataset\n"
   ]
  },
  {
   "cell_type": "code",
   "execution_count": 46,
   "id": "22abbdba",
   "metadata": {},
   "outputs": [
    {
     "data": {
      "text/plain": [
       "np.float64(-0.028127393136036734)"
      ]
     },
     "execution_count": 46,
     "metadata": {},
     "output_type": "execute_result"
    }
   ],
   "source": [
    "c = np.mean(data)\n",
    "c\n",
    "\n",
    "#c is the mean of the dataset and also is the optimal c"
   ]
  },
  {
   "cell_type": "markdown",
   "id": "4010751b",
   "metadata": {},
   "source": [
    "### Step 4 : Plot the MSE curve and the optimal c"
   ]
  },
  {
   "cell_type": "code",
   "execution_count": 47,
   "id": "e38ba4fe",
   "metadata": {},
   "outputs": [
    {
     "data": {
      "text/plain": [
       "(array([0.00681854, 0.        , 0.00227285, 0.00909138, 0.02272845,\n",
       "        0.03863837, 0.05909397, 0.08636811, 0.10909656, 0.21819313,\n",
       "        0.19773752, 0.22273882, 0.33638107, 0.40456642, 0.40911211,\n",
       "        0.37274659, 0.38411081, 0.38865651, 0.31592546, 0.26365003,\n",
       "        0.19546468, 0.17728191, 0.11818794, 0.08636811, 0.03863837,\n",
       "        0.03181983, 0.02045561, 0.01818276, 0.00454569, 0.00681854]),\n",
       " array([-3.42434397, -3.20435537, -2.98436677, -2.76437817, -2.54438957,\n",
       "        -2.32440097, -2.10441237, -1.88442377, -1.66443518, -1.44444658,\n",
       "        -1.22445798, -1.00446938, -0.78448078, -0.56449218, -0.34450358,\n",
       "        -0.12451498,  0.09547362,  0.31546221,  0.53545081,  0.75543941,\n",
       "         0.97542801,  1.19541661,  1.41540521,  1.63539381,  1.85538241,\n",
       "         2.07537101,  2.2953596 ,  2.5153482 ,  2.7353368 ,  2.9553254 ,\n",
       "         3.175314  ]),\n",
       " <BarContainer object of 30 artists>)"
      ]
     },
     "execution_count": 47,
     "metadata": {},
     "output_type": "execute_result"
    },
    {
     "data": {
      "image/png": "[encoded data removed]",
      "text/plain": [
       "<Figure size 640x480 with 1 Axes>"
      ]
     },
     "metadata": {},
     "output_type": "display_data"
    }
   ],
   "source": [
    "plt.hist(data, bins=30, density=True, alpha=0.6, color='b')\n"
   ]
  },
  {
   "cell_type": "code",
   "execution_count": 48,
   "id": "badeaacb",
   "metadata": {},
   "outputs": [
    {
     "data": {
      "text/plain": [
       "array([[-3.        ,  9.8064229 ],\n",
       "       [-2.99      ,  9.74708545],\n",
       "       [-2.98      ,  9.687948  ],\n",
       "       ...,\n",
       "       [ 2.97      ,  9.96316398],\n",
       "       [ 2.98      , 10.02322653],\n",
       "       [ 2.99      , 10.08348907]], shape=(600, 2))"
      ]
     },
     "execution_count": 48,
     "metadata": {},
     "output_type": "execute_result"
    }
   ],
   "source": [
    "possible_c_array = np.arange(-3, 3, 0.01) #values from -3 to 3 with a step of 0.1\n",
    "mse_array = np.array([(x, mean_squared_error_const_model(x, data)) for x in possible_c_array])\n",
    "\n",
    "\n",
    "mse_array"
   ]
  },
  {
   "cell_type": "code",
   "execution_count": 49,
   "id": "3a7257d9",
   "metadata": {},
   "outputs": [
    {
     "data": {
      "image/png": "[encoded data removed]",
      "text/plain": [
       "<Figure size 640x480 with 1 Axes>"
      ]
     },
     "metadata": {},
     "output_type": "display_data"
    }
   ],
   "source": [
    "minimum_mse = mean_squared_error_const_model(c, data) #mse when we const predict the mean\n",
    "\n",
    "plt.plot(mse_array[:, 0], mse_array[:, 1], label='Mean Squared Error')\n",
    "plt.plot([mse_array[0, 0], mse_array[-1, 0]], [minimum_mse, minimum_mse],'r--',label='mean')\n",
    "\n",
    "plt.show()"
   ]
  },
  {
   "cell_type": "markdown",
   "id": "2c59b584",
   "metadata": {},
   "source": [
    "As we can we, the mean is indeed the best solution to finding an optimal $c$ for a constant model."
   ]
  },
  {
   "cell_type": "markdown",
   "id": "75812aca",
   "metadata": {},
   "source": [
    "# Part 3 : "
   ]
  },
  {
   "cell_type": "markdown",
   "id": "98d6a762",
   "metadata": {},
   "source": [
    "Write your own implementation of splitting the dataset on train and test using shuffling:"
   ]
  },
  {
   "cell_type": "code",
   "execution_count": 50,
   "id": "e4a7e159-1c4d-4514-ab76-9fcf047fa4df",
   "metadata": {},
   "outputs": [],
   "source": [
    "def train_test_split(X: np.array, y: np.array, test_size=0.2):\n",
    "    \"\"\"\n",
    "    Split the dataset into training and testing sets.\n",
    "\n",
    "    Parameters:\n",
    "    X (numpy array): The feature matrix.\n",
    "    y (numpy array): The target labels.\n",
    "    test_size (float): The proportion of the dataset to include in the test split.\n",
    "\n",
    "    Returns:\n",
    "    X_train (numpy array): The training feature matrix.\n",
    "    X_test (numpy array): The testing feature matrix.\n",
    "    y_train (numpy array): The training labels.\n",
    "    y_test (numpy array): The testing labels.\n",
    "    \"\"\"\n",
    "    if len(X) < 1 or len(y) < 1:\n",
    "        return np.array([]), np.array([]), np.array([]), np.array([])\n",
    "\n",
    "    X = np.array(X)\n",
    "    y = np.array(y)\n",
    "\n",
    "    n_samples = len(X)\n",
    "    test_size_num = int(n_samples * test_size)\n",
    "\n",
    "    indices = np.arange(n_samples)\n",
    "    np.random.shuffle(indices)  \n",
    "    \n",
    "    test_indices = indices[:test_size_num]\n",
    "    train_indices = indices[test_size_num:]\n",
    "    \n",
    "    X_train, X_test = X[train_indices], X[test_indices]\n",
    "    y_train, y_test = y[train_indices], y[test_indices]\n",
    "    \n",
    "    return X_train, X_test, y_train, y_test\n",
    "\n",
    "\n",
    "# Example Usage\n",
    "X = [[1, 2], [3, 4], [5, 6], [7, 8]]\n",
    "y = [0, 1, 0, 1]\n",
    "\n",
    "X_train, X_test, y_train, y_test = train_test_split(X, y, test_size=0.25)"
   ]
  },
  {
   "cell_type": "markdown",
   "id": "4257ffdc-f52c-4dc7-82a2-e23875811fae",
   "metadata": {},
   "source": [
    "Run the following tests to ensure that your implementation works as expected. <br>\n",
    "<strong>Don't modify the cells</strong>!"
   ]
  },
  {
   "cell_type": "code",
   "execution_count": 51,
   "id": "7dbd7f9b-74a3-4f66-9b09-f9bc778cb27e",
   "metadata": {},
   "outputs": [],
   "source": [
    "def test_basic_split():\n",
    "    X = [[1, 2], [3, 4], [5, 6], [7, 8]]\n",
    "    y = [0, 1, 0, 1]\n",
    "    \n",
    "    X_train, X_test, y_train, y_test = train_test_split(X, y, test_size=0.25)\n",
    "    \n",
    "    # Check if the correct number of samples is in the train and test sets\n",
    "    assert len(X_train) == 3, f\"Expected 3 training samples, got {len(X_train)}\"\n",
    "    assert len(X_test) == 1, f\"Expected 1 test sample, got {len(X_test)}\"\n",
    "    assert len(y_train) == 3, f\"Expected 3 training labels, got {len(y_train)}\"\n",
    "    assert len(y_test) == 1, f\"Expected 1 test label, got {len(y_test)}\"\n",
    "    \n",
    "    print(\"Basic split test passed.\")"
   ]
  },
  {
   "cell_type": "code",
   "execution_count": 52,
   "id": "3c166f7f-8c18-4b72-aa2c-d09b8b6ea2b3",
   "metadata": {},
   "outputs": [],
   "source": [
    "def test_empty_dataset():\n",
    "    X = []\n",
    "    y = []\n",
    "    \n",
    "    X_train, X_test, y_train, y_test = train_test_split(X, y, test_size=0.25)\n",
    "    \n",
    "    # Check if the splits are empty\n",
    "    assert len(X_train) == 0, f\"Expected 0 training samples, got {len(X_train)}\"\n",
    "    assert len(X_test) == 0, f\"Expected 0 test samples, got {len(X_test)}\"\n",
    "    assert len(y_train) == 0, f\"Expected 0 training labels, got {len(y_train)}\"\n",
    "    assert len(y_test) == 0, f\"Expected 0 test labels, got {len(y_test)}\"\n",
    "    \n",
    "    print(\"Empty dataset test passed.\")"
   ]
  },
  {
   "cell_type": "code",
   "execution_count": 53,
   "id": "704d03fe-649c-4cd5-a7f2-fcbd3c0e2178",
   "metadata": {},
   "outputs": [],
   "source": [
    "def test_different_test_size():\n",
    "    X = [[1, 2], [3, 4], [5, 6], [7, 8]]\n",
    "    y = [0, 1, 0, 1]\n",
    "    \n",
    "    # Test with 50% test size\n",
    "    X_train, X_test, y_train, y_test = train_test_split(X, y, test_size=0.5)\n",
    "    assert len(X_test) == 2, f\"Expected 2 test samples, got {len(X_test)}\"\n",
    "    \n",
    "    # Test with 25% test size\n",
    "    X_train, X_test, y_train, y_test = train_test_split(X, y, test_size=0.25)\n",
    "    assert len(X_test) == 1, f\"Expected 1 test sample, got {len(X_test)}\"\n",
    "    \n",
    "    print(\"Different test_size values test passed.\")"
   ]
  },
  {
   "cell_type": "code",
   "execution_count": 54,
   "id": "b3f6cd9a-62cb-4a5f-a225-dc46e9fa3082",
   "metadata": {},
   "outputs": [],
   "source": [
    "from sklearn.datasets import load_iris\n",
    "\n",
    "data = load_iris()\n",
    "X = data.data\n",
    "y = data.target\n",
    "\n",
    "def test_real_dataset():\n",
    "    X_train, X_test, y_train, y_test = train_test_split(X, y, test_size=0.3)\n",
    "    \n",
    "    # Check the size of the train and test sets\n",
    "    assert len(X_train) == 105, f\"Expected 105 training samples, got {len(X_train)}\"\n",
    "    assert len(X_test) == 45, f\"Expected 45 test samples, got {len(X_test)}\"\n",
    "    \n",
    "    print(\"Real dataset test passed.\")\n"
   ]
  },
  {
   "cell_type": "code",
   "execution_count": 55,
   "id": "8e78a79c-fe17-444e-a7da-190fc9aeb2d8",
   "metadata": {},
   "outputs": [
    {
     "name": "stdout",
     "output_type": "stream",
     "text": [
      "Basic split test passed.\n",
      "Empty dataset test passed.\n",
      "Different test_size values test passed.\n",
      "Real dataset test passed.\n"
     ]
    }
   ],
   "source": [
    "def run_tests():\n",
    "    test_basic_split()\n",
    "    test_empty_dataset()\n",
    "    test_different_test_size()\n",
    "    test_real_dataset()\n",
    "\n",
    "run_tests()"
   ]
  }
 ],
 "metadata": {
  "kernelspec": {
   "display_name": ".venv",
   "language": "python",
   "name": "python3"
  },
  "language_info": {
   "codemirror_mode": {
    "name": "ipython",
    "version": 3
   },
   "file_extension": ".py",
   "mimetype": "text/x-python",
   "name": "python",
   "nbconvert_exporter": "python",
   "pygments_lexer": "ipython3",
   "version": "3.13.0"
  }
 },
 "nbformat": 4,
 "nbformat_minor": 5
}
